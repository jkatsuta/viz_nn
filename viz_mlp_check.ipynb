{
 "cells": [
  {
   "cell_type": "markdown",
   "metadata": {},
   "source": [
    "# 重みの可視化\n",
    "\n",
    "MLPを構築し、1層目から2層目への重みを可視化する。最初にチェック用データで、期待通り重みが可視化できているかをチェック。次にチェックに使用した簡単なデータで、正則化（L1/L2）をした場合、重みがどのように変化するかを見る。\n",
    "\n",
    "1. 重みの可視化（チェックデータ1）\n",
    "2. 重みの可視化（チェックデータ2）\n",
    "3. L1正則化（チェックデータ2）\n",
    "4. L2正則化（チェックデータ2）"
   ]
  },
  {
   "cell_type": "code",
   "execution_count": 59,
   "metadata": {
    "collapsed": true
   },
   "outputs": [],
   "source": [
    "from keras.models import Sequential\n",
    "from keras.layers.core import Dense, Dropout, Activation\n",
    "from keras.regularizers import l1, l2\n",
    "%matplotlib inline"
   ]
  },
  {
   "cell_type": "code",
   "execution_count": 36,
   "metadata": {
    "collapsed": false
   },
   "outputs": [],
   "source": [
    "# モデル構築\n",
    "np.random.seed(111)\n",
    "\n",
    "dim_in = 10\n",
    "\n",
    "model = Sequential()\n",
    "model.add(Dense(30, input_dim=dim_in))\n",
    "model.add(Activation('relu'))\n",
    "model.add(Dense(30))\n",
    "model.add(Activation('relu'))\n",
    "model.add(Dense(1))\n",
    "model.add(Activation('sigmoid'))\n",
    "\n",
    "model.compile(loss='binary_crossentropy', optimizer='Adam', metrics=['accuracy'])\n",
    "weights0 = model.get_weights()"
   ]
  },
  {
   "cell_type": "markdown",
   "metadata": {},
   "source": [
    "## 1. 重みの可視化 (チェックデータ1)\n",
    "\n",
    "チェック用データとして、インプット(xs1)に正解データ(ys1）を入れる。\n",
    "正解データがインプットデータに入っているので、モデルが適切に学習すれば、この正解データを入れたunitだけに重みが集中し、正解率も100%になると期待される。"
   ]
  },
  {
   "cell_type": "code",
   "execution_count": null,
   "metadata": {
    "collapsed": true
   },
   "outputs": [],
   "source": [
    "#  チェック用データの作成\n",
    "# 正解データをインプットデータのunit#5に代入\n",
    "# 残りのインプットデータはランダムノイズなので、正解データを予想することは不可能\n",
    "N1 = 1000\n",
    "xs1 = np.random.randn(N1, dim_in)\n",
    "ys1 = np.random.choice([0, 1], N1)\n",
    "xs1[np.arange(N1), 5] = ys1"
   ]
  },
  {
   "cell_type": "code",
   "execution_count": 56,
   "metadata": {
    "collapsed": false
   },
   "outputs": [
    {
     "name": "stdout",
     "output_type": "stream",
     "text": [
      "Epoch 1/20\n",
      "1000/1000 [==============================] - 0s - loss: 0.6736 - acc: 0.6000     \n",
      "Epoch 2/20\n",
      "1000/1000 [==============================] - 0s - loss: 0.5904 - acc: 0.7790     \n",
      "Epoch 3/20\n",
      "1000/1000 [==============================] - 0s - loss: 0.4585 - acc: 0.9230     \n",
      "Epoch 4/20\n",
      "1000/1000 [==============================] - 0s - loss: 0.2662 - acc: 0.9880     \n",
      "Epoch 5/20\n",
      "1000/1000 [==============================] - 0s - loss: 0.1102 - acc: 0.9990     \n",
      "Epoch 6/20\n",
      "1000/1000 [==============================] - 0s - loss: 0.0464 - acc: 1.0000     \n",
      "Epoch 7/20\n",
      "1000/1000 [==============================] - 0s - loss: 0.0241 - acc: 1.0000     \n",
      "Epoch 8/20\n",
      "1000/1000 [==============================] - 0s - loss: 0.0150 - acc: 1.0000     \n",
      "Epoch 9/20\n",
      "1000/1000 [==============================] - 0s - loss: 0.0102 - acc: 1.0000     \n",
      "Epoch 10/20\n",
      "1000/1000 [==============================] - 0s - loss: 0.0076 - acc: 1.0000     \n",
      "Epoch 11/20\n",
      "1000/1000 [==============================] - 0s - loss: 0.0058 - acc: 1.0000     \n",
      "Epoch 12/20\n",
      "1000/1000 [==============================] - 0s - loss: 0.0047 - acc: 1.0000     \n",
      "Epoch 13/20\n",
      "1000/1000 [==============================] - 0s - loss: 0.0039 - acc: 1.0000     \n",
      "Epoch 14/20\n",
      "1000/1000 [==============================] - 0s - loss: 0.0033 - acc: 1.0000     \n",
      "Epoch 15/20\n",
      "1000/1000 [==============================] - 0s - loss: 0.0028 - acc: 1.0000     \n",
      "Epoch 16/20\n",
      "1000/1000 [==============================] - 0s - loss: 0.0024 - acc: 1.0000     \n",
      "Epoch 17/20\n",
      "1000/1000 [==============================] - 0s - loss: 0.0022 - acc: 1.0000     \n",
      "Epoch 18/20\n",
      "1000/1000 [==============================] - 0s - loss: 0.0019 - acc: 1.0000     \n",
      "Epoch 19/20\n",
      "1000/1000 [==============================] - 0s - loss: 0.0017 - acc: 1.0000     \n",
      "Epoch 20/20\n",
      "1000/1000 [==============================] - 0s - loss: 0.0015 - acc: 1.0000     \n"
     ]
    },
    {
     "data": {
      "text/plain": [
       "[<matplotlib.lines.Line2D at 0x12d747048>]"
      ]
     },
     "execution_count": 56,
     "metadata": {},
     "output_type": "execute_result"
    },
    {
     "data": {
      "image/png": "[encoded data removed]",
      "text/plain": [
       "<matplotlib.figure.Figure at 0x12c143a58>"
      ]
     },
     "metadata": {},
     "output_type": "display_data"
    },
    {
     "data": {
      "image/png": "[encoded data removed]",
      "text/plain": [
       "<matplotlib.figure.Figure at 0x12d61e0b8>"
      ]
     },
     "metadata": {},
     "output_type": "display_data"
    }
   ],
   "source": [
    "# 学習\n",
    "model.set_weights(weights0)\n",
    "model.fit(xs1, ys1, batch_size=30, nb_epoch=20)\n",
    "\n",
    "# 結果をplot\n",
    "w1 = model.layers[0].get_weights()[0]\n",
    "plt.imshow(w1, cmap='coolwarm', interpolation='nearest')\n",
    "plt.colorbar()\n",
    "plt.figure()\n",
    "plt.plot((w1**2).mean(axis=1), 'o-')"
   ]
  },
  {
   "cell_type": "markdown",
   "metadata": {
    "collapsed": true
   },
   "source": [
    "### 考察\n",
    "\n",
    "学習は期待通り、正解率が1.0 = 100%になっている。\n",
    "\n",
    "1層目の重みを可視化したものが、上記2つの図\n",
    "- 上のパネルは、縦軸がinput (dim_in=10 units), 横軸がそれぞれのunitから次の層（30 units）へのそれぞれの重みの大きさ。絶対値が大きいほど色が濃くなる。input5番目(pythonに合わせて、0番目始まりで数える)の行の絶対値が大きいのが見て分かる。\n",
    "- 下のパネルは、行方向（input層）に平均をとったもの（= 各input　unitの次の層への重みの平均）。横軸がinput unitの各番号で、縦軸が平均値。やはり5番目が大きくなっているのがわかる。\n",
    "\n",
    "両パネルから5番目のunitが、大きくなっているのが見て取れる。5番目のunitは、データ作成時に故意に正解データを入れたunitなので、期待通りこのunitの重みが大きくなっているのが、図に可視化することでわかる。\n"
   ]
  },
  {
   "cell_type": "markdown",
   "metadata": {},
   "source": [
    "## 2. 重みの可視化 (チェックデータ2)\n",
    "\n",
    "別のデータセットで、同様のチェックを行う。チェック用データとして、インプット(xs2)に正解データ(ys2）を入れる。チェックデータ1との違いは、正解データを単純に入れずに、2unitのデータを組み合わせることで、正解データが取り出せるようにした。モデルが適切に学習すれば、この2unitsに重みが集中し成果率も100%になると期待される。"
   ]
  },
  {
   "cell_type": "code",
   "execution_count": 1,
   "metadata": {
    "collapsed": false,
    "scrolled": true
   },
   "outputs": [
    {
     "ename": "NameError",
     "evalue": "name 'N' is not defined",
     "output_type": "error",
     "traceback": [
      "\u001b[0;31m---------------------------------------------------------------------------\u001b[0m",
      "\u001b[0;31mNameError\u001b[0m                                 Traceback (most recent call last)",
      "\u001b[0;32m<ipython-input-1-4c2156c7bbfe>\u001b[0m in \u001b[0;36m<module>\u001b[0;34m()\u001b[0m\n\u001b[1;32m      2\u001b[0m \u001b[0;31m# インプットに正解データを入れる。3, 6番目を足すと正解データになるように調整\u001b[0m\u001b[0;34m\u001b[0m\u001b[0;34m\u001b[0m\u001b[0m\n\u001b[1;32m      3\u001b[0m \u001b[0mN2\u001b[0m \u001b[0;34m=\u001b[0m \u001b[0;36m1000\u001b[0m\u001b[0;34m\u001b[0m\u001b[0m\n\u001b[0;32m----> 4\u001b[0;31m \u001b[0mxs2\u001b[0m \u001b[0;34m=\u001b[0m \u001b[0mnp\u001b[0m\u001b[0;34m.\u001b[0m\u001b[0mrandom\u001b[0m\u001b[0;34m.\u001b[0m\u001b[0mrandn\u001b[0m\u001b[0;34m(\u001b[0m\u001b[0mN\u001b[0m\u001b[0;34m,\u001b[0m \u001b[0mdim_in\u001b[0m\u001b[0;34m)\u001b[0m\u001b[0;34m\u001b[0m\u001b[0m\n\u001b[0m\u001b[1;32m      5\u001b[0m \u001b[0mys2\u001b[0m \u001b[0;34m=\u001b[0m \u001b[0mnp\u001b[0m\u001b[0;34m.\u001b[0m\u001b[0mrandom\u001b[0m\u001b[0;34m.\u001b[0m\u001b[0mchoice\u001b[0m\u001b[0;34m(\u001b[0m\u001b[0;34m[\u001b[0m\u001b[0;36m0\u001b[0m\u001b[0;34m,\u001b[0m \u001b[0;36m1\u001b[0m\u001b[0;34m]\u001b[0m\u001b[0;34m,\u001b[0m \u001b[0mN\u001b[0m\u001b[0;34m)\u001b[0m\u001b[0;34m\u001b[0m\u001b[0m\n\u001b[1;32m      6\u001b[0m \u001b[0mxs2\u001b[0m\u001b[0;34m[\u001b[0m\u001b[0mnp\u001b[0m\u001b[0;34m.\u001b[0m\u001b[0marange\u001b[0m\u001b[0;34m(\u001b[0m\u001b[0mN2\u001b[0m\u001b[0;34m)\u001b[0m\u001b[0;34m,\u001b[0m \u001b[0;36m3\u001b[0m\u001b[0;34m]\u001b[0m \u001b[0;34m=\u001b[0m \u001b[0mys2\u001b[0m \u001b[0;34m-\u001b[0m \u001b[0mxs2\u001b[0m\u001b[0;34m[\u001b[0m\u001b[0mnp\u001b[0m\u001b[0;34m.\u001b[0m\u001b[0marange\u001b[0m\u001b[0;34m(\u001b[0m\u001b[0mN2\u001b[0m\u001b[0;34m)\u001b[0m\u001b[0;34m,\u001b[0m \u001b[0;36m6\u001b[0m\u001b[0;34m]\u001b[0m\u001b[0;34m\u001b[0m\u001b[0m\n",
      "\u001b[0;31mNameError\u001b[0m: name 'N' is not defined"
     ]
    }
   ],
   "source": [
    "# チェック用データ2\n",
    "# インプットに正解データを入れる。3, 6番目を足すと正解データになるように調整\n",
    "N2 = 1000\n",
    "xs2 = np.random.randn(N, dim_in)\n",
    "ys2 = np.random.choice([0, 1], N)\n",
    "xs2[np.arange(N2), 3] = ys2 - xs2[np.arange(N2), 6]"
   ]
  },
  {
   "cell_type": "code",
   "execution_count": 58,
   "metadata": {
    "collapsed": false
   },
   "outputs": [
    {
     "name": "stdout",
     "output_type": "stream",
     "text": [
      "Epoch 1/20\n",
      "1000/1000 [==============================] - 0s - loss: 0.6676 - acc: 0.5800     \n",
      "Epoch 2/20\n",
      "1000/1000 [==============================] - 0s - loss: 0.5771 - acc: 0.7340     \n",
      "Epoch 3/20\n",
      "1000/1000 [==============================] - 0s - loss: 0.4503 - acc: 0.8560     \n",
      "Epoch 4/20\n",
      "1000/1000 [==============================] - 0s - loss: 0.2531 - acc: 0.9820     \n",
      "Epoch 5/20\n",
      "1000/1000 [==============================] - 0s - loss: 0.1023 - acc: 0.9940     \n",
      "Epoch 6/20\n",
      "1000/1000 [==============================] - 0s - loss: 0.0445 - acc: 0.9980     \n",
      "Epoch 7/20\n",
      "1000/1000 [==============================] - 0s - loss: 0.0240 - acc: 0.9990     \n",
      "Epoch 8/20\n",
      "1000/1000 [==============================] - 0s - loss: 0.0154 - acc: 1.0000     \n",
      "Epoch 9/20\n",
      "1000/1000 [==============================] - 0s - loss: 0.0108 - acc: 1.0000     \n",
      "Epoch 10/20\n",
      "1000/1000 [==============================] - 0s - loss: 0.0081 - acc: 1.0000     \n",
      "Epoch 11/20\n",
      "1000/1000 [==============================] - 0s - loss: 0.0063 - acc: 1.0000     \n",
      "Epoch 12/20\n",
      "1000/1000 [==============================] - 0s - loss: 0.0051 - acc: 1.0000     \n",
      "Epoch 13/20\n",
      "1000/1000 [==============================] - 0s - loss: 0.0043 - acc: 1.0000     \n",
      "Epoch 14/20\n",
      "1000/1000 [==============================] - 0s - loss: 0.0036 - acc: 1.0000     \n",
      "Epoch 15/20\n",
      "1000/1000 [==============================] - 0s - loss: 0.0031 - acc: 1.0000     \n",
      "Epoch 16/20\n",
      "1000/1000 [==============================] - 0s - loss: 0.0027 - acc: 1.0000     \n",
      "Epoch 17/20\n",
      "1000/1000 [==============================] - 0s - loss: 0.0024 - acc: 1.0000     \n",
      "Epoch 18/20\n",
      "1000/1000 [==============================] - 0s - loss: 0.0021 - acc: 1.0000     \n",
      "Epoch 19/20\n",
      "1000/1000 [==============================] - 0s - loss: 0.0019 - acc: 1.0000     \n",
      "Epoch 20/20\n",
      "1000/1000 [==============================] - 0s - loss: 0.0017 - acc: 1.0000     \n"
     ]
    },
    {
     "data": {
      "text/plain": [
       "[<matplotlib.lines.Line2D at 0x12d98cda0>]"
      ]
     },
     "execution_count": 58,
     "metadata": {},
     "output_type": "execute_result"
    },
    {
     "data": {
      "image/png": "[encoded data removed]",
      "text/plain": [
       "<matplotlib.figure.Figure at 0x12b7938d0>"
      ]
     },
     "metadata": {},
     "output_type": "display_data"
    },
    {
     "data": {
      "image/png": "[encoded data removed]",
      "text/plain": [
       "<matplotlib.figure.Figure at 0x12d8664e0>"
      ]
     },
     "metadata": {},
     "output_type": "display_data"
    }
   ],
   "source": [
    "%matplotlib inline\n",
    "model.set_weights(weights0)\n",
    "model.fit(xs, ys, batch_size=30, nb_epoch=20)\n",
    "\n",
    "w1 = model.layers[0].get_weights()[0]\n",
    "plt.imshow(w1, cmap='coolwarm', interpolation='nearest')\n",
    "plt.colorbar()\n",
    "plt.figure()\n",
    "plt.plot((w1**2).mean(axis=1), 'o-')"
   ]
  },
  {
   "cell_type": "markdown",
   "metadata": {
    "collapsed": true
   },
   "source": [
    "### 考察\n",
    "\n",
    "正解率は100%. 図を見てみると、上パネルだと若干わかりづらいが、下パネルで見れば、3, 6番目の重みが大きくなっている。期待通り。"
   ]
  },
  {
   "cell_type": "markdown",
   "metadata": {},
   "source": [
    "## 3. L1正則化\n",
    "\n",
    "チェック用データ2を用いて、L1正則化をモデルに入れた場合に、重みがどのように変化するのか見るために可視化する。"
   ]
  },
  {
   "cell_type": "code",
   "execution_count": 60,
   "metadata": {
    "collapsed": true
   },
   "outputs": [],
   "source": [
    "# モデル構築。2との違いは、1層目にL1正則化（ W_regularizer=l1(0.1)）の項を入れたこと\n",
    "dim_in = 10\n",
    "\n",
    "model1 = Sequential()\n",
    "model1.add(Dense(30, input_dim=dim_in, W_regularizer=l1(0.1)))\n",
    "model1.add(Activation('relu'))\n",
    "model1.add(Dense(30))\n",
    "model1.add(Activation('relu'))\n",
    "model1.add(Dense(1))\n",
    "model1.add(Activation('sigmoid'))\n",
    "\n",
    "model1.compile(loss='binary_crossentropy', optimizer='Adam', metrics=['accuracy'])\n",
    "weights1 = model1.get_weights()"
   ]
  },
  {
   "cell_type": "code",
   "execution_count": 63,
   "metadata": {
    "collapsed": false
   },
   "outputs": [
    {
     "name": "stdout",
     "output_type": "stream",
     "text": [
      "Epoch 1/20\n",
      "1000/1000 [==============================] - 0s - loss: 5.8278 - acc: 0.5450     \n",
      "Epoch 2/20\n",
      "1000/1000 [==============================] - 0s - loss: 4.9526 - acc: 0.6020     \n",
      "Epoch 3/20\n",
      "1000/1000 [==============================] - 0s - loss: 4.1265 - acc: 0.6340     \n",
      "Epoch 4/20\n",
      "1000/1000 [==============================] - 0s - loss: 3.4018 - acc: 0.6570     \n",
      "Epoch 5/20\n",
      "1000/1000 [==============================] - 0s - loss: 2.7770 - acc: 0.6780     \n",
      "Epoch 6/20\n",
      "1000/1000 [==============================] - 0s - loss: 2.2256 - acc: 0.6820     \n",
      "Epoch 7/20\n",
      "1000/1000 [==============================] - 0s - loss: 1.7544 - acc: 0.7010     \n",
      "Epoch 8/20\n",
      "1000/1000 [==============================] - 0s - loss: 1.3830 - acc: 0.7160     \n",
      "Epoch 9/20\n",
      "1000/1000 [==============================] - 0s - loss: 1.0910 - acc: 0.7030     \n",
      "Epoch 10/20\n",
      "1000/1000 [==============================] - 0s - loss: 0.8750 - acc: 0.7220     \n",
      "Epoch 11/20\n",
      "1000/1000 [==============================] - 0s - loss: 0.7372 - acc: 0.7300     \n",
      "Epoch 12/20\n",
      "1000/1000 [==============================] - 0s - loss: 0.6677 - acc: 0.7840     \n",
      "Epoch 13/20\n",
      "1000/1000 [==============================] - 0s - loss: 0.6152 - acc: 0.8690     \n",
      "Epoch 14/20\n",
      "1000/1000 [==============================] - 0s - loss: 0.5496 - acc: 0.9640     \n",
      "Epoch 15/20\n",
      "1000/1000 [==============================] - 0s - loss: 0.4615 - acc: 0.9990     \n",
      "Epoch 16/20\n",
      "1000/1000 [==============================] - 0s - loss: 0.3730 - acc: 1.0000     \n",
      "Epoch 17/20\n",
      "1000/1000 [==============================] - 0s - loss: 0.3089 - acc: 1.0000     \n",
      "Epoch 18/20\n",
      "1000/1000 [==============================] - 0s - loss: 0.2729 - acc: 1.0000     \n",
      "Epoch 19/20\n",
      "1000/1000 [==============================] - 0s - loss: 0.2495 - acc: 1.0000     \n",
      "Epoch 20/20\n",
      "1000/1000 [==============================] - 0s - loss: 0.2342 - acc: 1.0000     \n"
     ]
    },
    {
     "data": {
      "text/plain": [
       "[<matplotlib.lines.Line2D at 0x12f84a3c8>]"
      ]
     },
     "execution_count": 63,
     "metadata": {},
     "output_type": "execute_result"
    },
    {
     "data": {
      "image/png": "[encoded data removed]",
      "text/plain": [
       "<matplotlib.figure.Figure at 0x12d903828>"
      ]
     },
     "metadata": {},
     "output_type": "display_data"
    },
    {
     "data": {
      "image/png": "[encoded data removed]",
      "text/plain": [
       "<matplotlib.figure.Figure at 0x12d4816a0>"
      ]
     },
     "metadata": {},
     "output_type": "display_data"
    }
   ],
   "source": [
    "model1.set_weights(weights1)\n",
    "model1.fit(xs2, ys2, batch_size=30, nb_epoch=20)\n",
    "\n",
    "w1 = model1.layers[0].get_weights()[0]\n",
    "plt.imshow(w1, cmap='coolwarm', interpolation='nearest')\n",
    "plt.colorbar()\n",
    "plt.figure()\n",
    "plt.plot((w1**2).mean(axis=1), 'o-')"
   ]
  },
  {
   "cell_type": "markdown",
   "metadata": {
    "collapsed": true
   },
   "source": [
    "### 考察\n",
    "\n",
    "2のチェックデータと同じものを使っている。モデルの構造も同じで、唯一の違いは1層目にL1正則化を入れたこと。\n",
    "正解率は変わらず100%だが、重みは思った以上に変化があった。L1正則化は教科書に「余分な次元を削除する」役割があるとよく書いてあるが、実際に可視化してみると、思った以上の衝撃。。まずランダムノイズの項（3, 6番以外）は完全に0. 3, 6番目に関しても、5つ以外は全て0。実際、今回のデータセットの場合、3, 6番目に1unitずつあれば十分であることを考えると、ここまでunit数が削除されるのも納得。\n",
    "\n",
    "また絶対値の大きさも小さくなっている。「正則化は重みの絶対値を小さくする」という教科書の文も「たしかにそうやなー」と確認できる。"
   ]
  },
  {
   "cell_type": "markdown",
   "metadata": {},
   "source": [
    "## 4. L2正則化\n",
    "\n",
    "チェック用データ2を用いて、L2正則化をモデルに入れた場合に、重みがどのように変化するのか見るために可視化する。"
   ]
  },
  {
   "cell_type": "code",
   "execution_count": 64,
   "metadata": {
    "collapsed": true
   },
   "outputs": [],
   "source": [
    "# モデル構築。L1 -> L2に変更。あとは変更なし。\n",
    "dim_in = 10\n",
    "\n",
    "model2 = Sequential()\n",
    "model2.add(Dense(30, input_dim=dim_in, W_regularizer=l2(0.1)))\n",
    "model2.add(Activation('relu'))\n",
    "model2.add(Dense(30))\n",
    "model2.add(Activation('relu'))\n",
    "model2.add(Dense(1))\n",
    "model2.add(Activation('sigmoid'))\n",
    "\n",
    "model2.compile(loss='binary_crossentropy', optimizer='Adam', metrics=['accuracy'])\n",
    "weights2 = model2.get_weights()"
   ]
  },
  {
   "cell_type": "code",
   "execution_count": 65,
   "metadata": {
    "collapsed": false
   },
   "outputs": [
    {
     "name": "stdout",
     "output_type": "stream",
     "text": [
      "Epoch 1/20\n",
      "1000/1000 [==============================] - 0s - loss: 2.1273 - acc: 0.5190     \n",
      "Epoch 2/20\n",
      "1000/1000 [==============================] - 0s - loss: 1.7530 - acc: 0.6090     \n",
      "Epoch 3/20\n",
      "1000/1000 [==============================] - 0s - loss: 1.4740 - acc: 0.6680     \n",
      "Epoch 4/20\n",
      "1000/1000 [==============================] - 0s - loss: 1.2526 - acc: 0.7150     \n",
      "Epoch 5/20\n",
      "1000/1000 [==============================] - 0s - loss: 1.0724 - acc: 0.7460     \n",
      "Epoch 6/20\n",
      "1000/1000 [==============================] - 0s - loss: 0.9157 - acc: 0.8220     \n",
      "Epoch 7/20\n",
      "1000/1000 [==============================] - 0s - loss: 0.7603 - acc: 0.9000     \n",
      "Epoch 8/20\n",
      "1000/1000 [==============================] - 0s - loss: 0.5871 - acc: 0.9750     \n",
      "Epoch 9/20\n",
      "1000/1000 [==============================] - 0s - loss: 0.4177 - acc: 0.9970     \n",
      "Epoch 10/20\n",
      "1000/1000 [==============================] - 0s - loss: 0.2981 - acc: 1.0000     \n",
      "Epoch 11/20\n",
      "1000/1000 [==============================] - 0s - loss: 0.2268 - acc: 1.0000     \n",
      "Epoch 12/20\n",
      "1000/1000 [==============================] - 0s - loss: 0.1834 - acc: 1.0000     \n",
      "Epoch 13/20\n",
      "1000/1000 [==============================] - 0s - loss: 0.1541 - acc: 1.0000     \n",
      "Epoch 14/20\n",
      "1000/1000 [==============================] - 0s - loss: 0.1326 - acc: 1.0000     \n",
      "Epoch 15/20\n",
      "1000/1000 [==============================] - 0s - loss: 0.1164 - acc: 1.0000     \n",
      "Epoch 16/20\n",
      "1000/1000 [==============================] - 0s - loss: 0.1035 - acc: 1.0000     \n",
      "Epoch 17/20\n",
      "1000/1000 [==============================] - 0s - loss: 0.0939 - acc: 1.0000     \n",
      "Epoch 18/20\n",
      "1000/1000 [==============================] - 0s - loss: 0.0857 - acc: 1.0000     \n",
      "Epoch 19/20\n",
      "1000/1000 [==============================] - 0s - loss: 0.0793 - acc: 1.0000     \n",
      "Epoch 20/20\n",
      "1000/1000 [==============================] - 0s - loss: 0.0738 - acc: 1.0000     \n"
     ]
    },
    {
     "data": {
      "text/plain": [
       "[<matplotlib.lines.Line2D at 0x130d337f0>]"
      ]
     },
     "execution_count": 65,
     "metadata": {},
     "output_type": "execute_result"
    },
    {
     "data": {
      "image/png": "[encoded data removed]",
      "text/plain": [
       "<matplotlib.figure.Figure at 0x1301bfef0>"
      ]
     },
     "metadata": {},
     "output_type": "display_data"
    },
    {
     "data": {
      "image/png": "[encoded data removed]",
      "text/plain": [
       "<matplotlib.figure.Figure at 0x130754f28>"
      ]
     },
     "metadata": {},
     "output_type": "display_data"
    }
   ],
   "source": [
    "model2.set_weights(weights2)\n",
    "model2.fit(xs2, ys2, batch_size=30, nb_epoch=20)\n",
    "\n",
    "w1 = model2.layers[0].get_weights()[0]\n",
    "plt.imshow(w1, cmap='coolwarm', interpolation='nearest')\n",
    "plt.colorbar()\n",
    "plt.figure()\n",
    "plt.plot((w1**2).mean(axis=1), 'o-')"
   ]
  },
  {
   "cell_type": "markdown",
   "metadata": {
    "collapsed": true
   },
   "source": [
    "### 考察\n",
    "\n",
    "3のL1正則化から、L2に変更（それ以外の変更点はなし）。\n",
    "正解率は100%。重みを可視化することで、正則化なし、L1正則化、どちらの場合とも異なることがよくわかる。教科書では「L2正則化は重みの絶対値を小さくする」という記述をよく見る。可視化するとその意味がよくわかる。ランダムノイズのような（正解データを推測するのに）不要なデータのunit（3, 6番目以外）の重みは、正則化なしの時と較べて非常に小さくなっているが、L1のときに比べると少し大きな値を持っている。また3, 6番目のunitに関しては、次の層への重みを持つ項はけっこうある。5つしかなかったL1のときとは明らかに異なる。一方で、一つ一つの重みの大きさでいうとL1よりも全体的に小さいように見える。少なくとも正則化なしのときと比べると、明らかに絶対値の大きさが小さくなっていることが確認できる。\n",
    "\n",
    "というわけで、「不要な次元削除」の際はL1を、「重みを小さくしたい」場合はL2という教科書の意味もわかりやすくなった。また不要データに関しては、どちらの場合もほぼ0まで落としてくれることがわかった。L1だとやり過ぎ感が漂うので、普通に過学習対策ならL2の方が無難だろうな、ということもこれらの図を見れば納得（少なくともっ個人的には）。"
   ]
  }
 ],
 "metadata": {
  "kernelspec": {
   "display_name": "Python 3",
   "language": "python",
   "name": "python3"
  },
  "language_info": {
   "codemirror_mode": {
    "name": "ipython",
    "version": 3
   },
   "file_extension": ".py",
   "mimetype": "text/x-python",
   "name": "python",
   "nbconvert_exporter": "python",
   "pygments_lexer": "ipython3",
   "version": "3.5.2"
  }
 },
 "nbformat": 4,
 "nbformat_minor": 0
}
